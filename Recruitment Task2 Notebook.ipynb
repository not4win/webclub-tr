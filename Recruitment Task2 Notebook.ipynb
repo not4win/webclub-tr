{
 "cells": [
  {
   "cell_type": "code",
   "execution_count": 2,
   "metadata": {
    "scrolled": true
   },
   "outputs": [],
   "source": [
    "import pandas as pd\n",
    "import scipy as sp\n",
    "from bs4 import BeautifulSoup\n",
    "import os\n",
    "import numpy as np\n",
    "from sklearn.model_selection import train_test_split\n",
    "from sklearn.ensemble import RandomForestClassifier\n",
    "from collections import Counter\n",
    "from sklearn.linear_model import LogisticRegression\n",
    "from sklearn.model_selection import cross_val_score"
   ]
  },
  {
   "cell_type": "markdown",
   "metadata": {},
   "source": [
    "### Reading ham and spam files"
   ]
  },
  {
   "cell_type": "code",
   "execution_count": 5,
   "metadata": {},
   "outputs": [],
   "source": [
    "spam_filenames=os.listdir(os.path.join(\"spam\"))\n",
    "ham_filenames=os.listdir(os.path.join(\"easy_ham\"))\n"
   ]
  },
  {
   "cell_type": "markdown",
   "metadata": {},
   "source": [
    "### Email parsing"
   ]
  },
  {
   "cell_type": "code",
   "execution_count": 6,
   "metadata": {},
   "outputs": [],
   "source": [
    "import email\n",
    "import email.policy\n",
    "def load_email(directory,filename):\n",
    "    with open(os.path.join(directory, filename), \"rb\") as f:\n",
    "     return email.parser.BytesParser(policy=email.policy.default).parse(f)\n",
    "    \n",
    "    "
   ]
  },
  {
   "cell_type": "code",
   "execution_count": 7,
   "metadata": {},
   "outputs": [],
   "source": [
    "ham_emails = [load_email(\"easy_ham\", filename=name) for name in ham_filenames]\n",
    "spam_emails = [load_email(\"spam\", filename=name) for name in spam_filenames]"
   ]
  },
  {
   "cell_type": "markdown",
   "metadata": {},
   "source": [
    "### splitting data"
   ]
  },
  {
   "cell_type": "code",
   "execution_count": 29,
   "metadata": {},
   "outputs": [],
   "source": [
    "X=np.array(ham_emails+spam_emails)\n",
    "Y=np.array([0]*len(ham_emails)+[1]*len(spam_emails))\n",
    "X_train,X_test,Y_train,Y_test=train_test_split(X,Y,test_size=0.2,random_state=40)"
   ]
  },
  {
   "cell_type": "markdown",
   "metadata": {},
   "source": [
    "\n",
    "### Data Preprocessing"
   ]
  },
  {
   "cell_type": "markdown",
   "metadata": {},
   "source": [
    "#### Convert all emails to plain text"
   ]
  },
  {
   "cell_type": "code",
   "execution_count": 33,
   "metadata": {
    "scrolled": true
   },
   "outputs": [],
   "source": [
    "\n",
    "def html_text(html):\n",
    "    soup = BeautifulSoup(html,\"html\")\n",
    "    return soup.get_text()\n",
    "    \n",
    "def email_to_text(email):\n",
    "    # Enter code  #\n",
    "    \n",
    "    return str(email.get_payload())\n"
   ]
  },
  {
   "cell_type": "markdown",
   "metadata": {},
   "source": [
    "### Finding most common words"
   ]
  },
  {
   "cell_type": "code",
   "execution_count": 57,
   "metadata": {},
   "outputs": [
    {
     "name": "stdout",
     "output_type": "stream",
     "text": [
      "['the', 'and', 'that', 'for', 'you', 'this', 'with', 'have', 'are', 'not', 'from', 'your', 'but', 'was', 'will', 'can', 'all', 'they', 'has', 'our', 'just', 'more', 'about', 'one', 'get', 'their', 'would', 'list', 'what', 'which', 'out', 'new', 'like', 'there', 'who', 'people', 'any', 'use', 'only', 'some', 'when', 'other', 'been', 'email', 'than', 'mailing', 'his', 'also', 'had', 'how', 'its', 'make', 'then', 'into', 'these', 'because', 'were', 'over', 'most', 'free', 'even', 'could', 'time', 'should', 'now', 'think', 'them', 'first', 'those', 'using', 'many', 'where', 'want', 'see', 'know', 'may', 'after', 'way', 'much', 'here', 'same', 'very', 'message', 'need', 'work', 'send', 'please', 'being', 'good', 'find', 'take', 'through', 'does', 'such', 'still', 'sep', 'money', 'before', 'world', 'united', 'business', 'own', 'linux', 'two', 'every', 'government', 'object', 'mail', 'states', 'said', 'really', 'something', 'must', 'since', 'internet', 'years', 'best', 'while', 'help', 'web', 'software', 'few', 'each', 'made', 'last', 'got', 'used', 'right', 'line', 'next', 'spam', 'without', 'old', 'did', 'information', 'against', 'might', 'found', 'file', 'change', 'name', 'another', 'why', 'address', 'going', 'back', 'better', 'data', 'too', 'well', 'different', 'system', 'messages', 'sure', 'set', 'down', 'say', 'never', 'within', 'give', 'xml', 'technology', 'report', 'look', 'between', 'run', 'off', 'sponsored', 'she', 'security', 'september', 'actually', 'order', 'number', 'put', 'once', 'under', 'come', 'million', 'great', 'keep', 'home', 'company', 'network', 'long', 'problem', 'public', 'end', 'probably', 'try', 'american', 'computer', 'real', 'support', 'president', 'start', 'things', 'both', 'seems', 'doing', 'anyone', 'someone', 'companies', 'her', 'files', 'receive', 'build', 'received', 'part', 'less', 'read', 'groups', 'supplied', 'global', 'state', 'click', 'per', 'aug', 'access', 'around', 'package', 'looking', 'trying', 'done', 'little', 'working', 'thing', 'server', 'running', 'program', 'ever', 'lot', 'service', 'least', 'user', 'day', 'matthias', 'following', 'check', 'based', 'subject', 'national', 'always', 'bush', 'maybe', 'anything', 'current', 'says', 'trade', 'key', 'having', 'red', 'unseen', 'call', 'getting', 'nothing', 'three', 'big', 'life', 'times', 'point', 'able', 'code', 'news', 'version', 'rpm', 'provide', 'high', 'making', 'total', 'called', 'special', 'add', 'sent', 'perl', 'phone', 'site', 'offer', 'open', 'already', 'international', 'place', 'including', 'thought', 'development', 'link', 'exmh', 'economic', 'communications', 'war', 'political', 'hat', 'test', 'market', 'future', 'upon', 'problems', 'easy', 'remove', 'msgs', 'tell', 'year', 'him', 'case', 'else', 'become', 'power', 'enough', 'given', 'during', 'services', 'seem', 'several', 'until', 'rights', 'seen', 'wish', 'important', 'marketing', 'tried', 'personal', 'human', 'datapower', 'went', 'html', 'text', 'save', 'believe', 'receiving', 'further', 'irish', 'contact', 'let', 'allow', 'thanks', 'hard', 'capital', 'second', 'rather', 'large', 'women', 'stuff', 'error', 'live', 'local', 'instead', 'person', 'install', 'quite', 'small', 'move', 'return', 'came', 'release', 'far', 'available', 'days', 'often', 'log', 'whether', 'unsubscribe', 'simply', 'addresses', 'guide', 'grants', 'makes', 'federal', 'top', 'legal', 'august', 'group', 'pay', 'java', 'cell', 'include', 'kind', 'whole', 'original', 'digital', 'welcome', 'create', 'bit', 'tired', 'show', 'military', 'stop', 'idea', 'act', 'currently', 'means', 'via', 'systems', 'either', 'months', 'single', 'law', 'buy', 'simple', 'almost', 'hit', 'country', 'source', 'major', 'financial', 'geek', 'foreign', 'works', 'lost', 'spamassassin', 'pretty', 'online', 'although', 'packages', 'told', 'product', 'today', 'everything', 'men', 'sending', 'search', 'removed', 'control', 'yet', 'possible', 'load', 'account', 'known', 'wrote', 'form', 'past', 'complete', 'looks', 'users', 'gets', 'recent', 'thousands', 'full', 'investment', 'feel', 'due', 'osdn', 'remember', 'john', 'windows', 'story', 'family', 'private', 'process', 'bill', 'venture', 'training', 'research', 'office', 'early', 'directory', 'join', 'growing', 'bad', 'posted', 'again', 'bank', 'building', 'continue', 'opportunity', 'processing', 'understand', 'half', 'force', 'root', 'page', 'type', 'though', 'perhaps', 'word', 'write', 'drive', 'cash', 'cannot', 'university', 'sponsor', 'similar', 'october', 'kernel', 'application', 'mean', 'america', 'week', 'reason', 'dollars', 'sites', 'saou', 'below', 'friends', 'increase', 'away', 'price', 'man', 'others', 'learn', 'device']\n"
     ]
    }
   ],
   "source": [
    "def clean_words(wordlist):\n",
    "    newlist=[]\n",
    "    for word in wordlist:\n",
    "        if (word.isalpha() and len(word)>2):\n",
    "            newlist.append(word)\n",
    "            \n",
    "   \n",
    "    return newlist\n",
    "\n",
    "count=0\n",
    "word_list=[]\n",
    "for i in X_train:\n",
    "    mail=email_to_text(i)\n",
    "    if mail is not None:\n",
    "        words=None\n",
    "        words=mail.lower().split()\n",
    "        final_word=clean_words(words)\n",
    "        for w in final_word:\n",
    "            word_list.append(w)\n",
    "\n",
    "most_common_words= [word for word, word_count in Counter(word_list).most_common(500)]\n",
    "most_common = [item for item in Counter(word_list).most_common(500)]\n",
    "print(most_common_words)\n",
    "\n",
    "        "
   ]
  },
  {
   "cell_type": "markdown",
   "metadata": {},
   "source": [
    "### Transformed training set\n"
   ]
  },
  {
   "cell_type": "code",
   "execution_count": 58,
   "metadata": {},
   "outputs": [
    {
     "data": {
      "text/plain": [
       "<1500x500 sparse matrix of type '<class 'numpy.int64'>'\n",
       "\twith 53752 stored elements in Compressed Sparse Row format>"
      ]
     },
     "execution_count": 58,
     "metadata": {},
     "output_type": "execute_result"
    }
   ],
   "source": [
    "X_transform=[]\n",
    "for email in X_train[:1500]:    \n",
    "    mail=email_to_text(email)\n",
    "    X_word=[]\n",
    "    if mail is not None:\n",
    "        words=None\n",
    "        words=mail.lower().split()\n",
    "        for j in most_common_words:\n",
    "            num=words.count(j)\n",
    "            X_word.append(num)\n",
    "    \n",
    "    X_transform.append(X_word) \n",
    "\n",
    "from scipy import sparse\n",
    "sparse.csr_matrix(X_transform)"
   ]
  },
  {
   "cell_type": "code",
   "execution_count": 59,
   "metadata": {},
   "outputs": [
    {
     "name": "stdout",
     "output_type": "stream",
     "text": [
      "[CV]  ................................................................\n",
      "[CV] ....................... , score=0.9403973509933775, total=   0.1s\n",
      "[CV]  ................................................................\n",
      "[CV] ....................... , score=0.9271523178807947, total=   0.1s\n",
      "[CV]  ................................................................\n",
      "[CV] ....................... , score=0.9139072847682119, total=   0.1s\n",
      "[CV]  ................................................................\n"
     ]
    },
    {
     "name": "stderr",
     "output_type": "stream",
     "text": [
      "[Parallel(n_jobs=1)]: Done   1 out of   1 | elapsed:    0.1s remaining:    0.0s\n",
      "[Parallel(n_jobs=1)]: Done   2 out of   2 | elapsed:    0.1s remaining:    0.0s\n"
     ]
    },
    {
     "name": "stdout",
     "output_type": "stream",
     "text": [
      "[CV] ..................................... , score=0.96, total=   0.1s\n",
      "[CV]  ................................................................\n",
      "[CV] ....................... , score=0.9333333333333333, total=   0.1s\n",
      "[CV]  ................................................................\n",
      "[CV] ....................... , score=0.9333333333333333, total=   0.1s\n",
      "[CV]  ................................................................\n",
      "[CV] ....................... , score=0.9466666666666667, total=   0.1s\n",
      "[CV]  ................................................................\n",
      "[CV] ....................... , score=0.9328859060402684, total=   0.1s\n",
      "[CV]  ................................................................\n",
      "[CV] ........................ , score=0.912751677852349, total=   0.1s\n",
      "[CV]  ................................................................\n",
      "[CV] ....................... , score=0.9261744966442953, total=   0.1s\n"
     ]
    },
    {
     "name": "stderr",
     "output_type": "stream",
     "text": [
      "[Parallel(n_jobs=1)]: Done  10 out of  10 | elapsed:    0.7s finished\n"
     ]
    },
    {
     "data": {
      "text/plain": [
       "0.932660236751263"
      ]
     },
     "execution_count": 59,
     "metadata": {},
     "output_type": "execute_result"
    }
   ],
   "source": [
    "## Bonus Task #\n",
    "# Fine tune the hyperparameters #\n",
    "lg=RandomForestClassifier()\n",
    "lg.fit(X_transform,Y_train[:1500])\n",
    "score = cross_val_score(lg, X_transform, Y_train[:1500], cv=10, verbose=3)\n",
    "score.mean()"
   ]
  },
  {
   "cell_type": "code",
   "execution_count": null,
   "metadata": {},
   "outputs": [],
   "source": []
  },
  {
   "cell_type": "code",
   "execution_count": null,
   "metadata": {},
   "outputs": [],
   "source": []
  }
 ],
 "metadata": {
  "kernelspec": {
   "display_name": "Python 3",
   "language": "python",
   "name": "python3"
  },
  "language_info": {
   "codemirror_mode": {
    "name": "ipython",
    "version": 3
   },
   "file_extension": ".py",
   "mimetype": "text/x-python",
   "name": "python",
   "nbconvert_exporter": "python",
   "pygments_lexer": "ipython3",
   "version": "3.6.5"
  }
 },
 "nbformat": 4,
 "nbformat_minor": 2
}
